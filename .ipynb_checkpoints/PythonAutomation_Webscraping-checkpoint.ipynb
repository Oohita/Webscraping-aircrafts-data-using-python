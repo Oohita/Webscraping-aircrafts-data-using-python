{
 "cells": [
  {
   "cell_type": "code",
   "execution_count": 1,
   "metadata": {},
   "outputs": [
    {
     "name": "stdout",
     "output_type": "stream",
     "text": [
      "Status Code: 200\n",
      "URI: https://flightaware.com/live/aircrafttype/\n",
      "\n",
      "Date: Wed, 16 Sep 2020 18:46:58 GMT\n",
      "> Below are flight codes fetched from website.\n",
      "{'Cessna Caravan': 'C208', 'Pilatus PC-12': 'PC12', 'Cessna Citation Excel/XLS': 'C56X', 'Beechcraft Super King Air 200': 'BE20'}\n",
      "> we can fetch more details by accessing the links below.\n",
      "Cessna Caravan :  https://flightaware.com/live/aircrafttype/C208\n",
      "> working on page :  0  for flight type :  C208\n",
      "21\n",
      "> working on page :  20  for flight type :  C208\n",
      "21\n",
      "> working on page :  40  for flight type :  C208\n",
      "21\n",
      "> working on page :  60  for flight type :  C208\n",
      "22\n",
      "> working on page :  80  for flight type :  C208\n",
      "3\n",
      "> successfully created file :  C208 .csv in the directory\n",
      "Pilatus PC-12 :  https://flightaware.com/live/aircrafttype/PC12\n",
      "> working on page :  0  for flight type :  PC12\n",
      "16\n",
      "> working on page :  20  for flight type :  PC12\n",
      "22\n",
      "> working on page :  40  for flight type :  PC12\n",
      "19\n",
      "> working on page :  60  for flight type :  PC12\n",
      "18\n",
      "> working on page :  80  for flight type :  PC12\n",
      "3\n",
      "> successfully created file :  PC12 .csv in the directory\n",
      "Cessna Citation Excel/XLS :  https://flightaware.com/live/aircrafttype/C56X\n",
      "> working on page :  0  for flight type :  C56X\n",
      "17\n",
      "> working on page :  20  for flight type :  C56X\n",
      "21\n",
      "> working on page :  40  for flight type :  C56X\n",
      "14\n",
      "> working on page :  60  for flight type :  C56X\n",
      "3\n",
      "> working on page :  80  for flight type :  C56X\n",
      "3\n",
      "> successfully created file :  C56X .csv in the directory\n",
      "Beechcraft Super King Air 200 :  https://flightaware.com/live/aircrafttype/BE20\n",
      "> working on page :  0  for flight type :  BE20\n",
      "21\n",
      "> working on page :  20  for flight type :  BE20\n",
      "19\n",
      "> working on page :  40  for flight type :  BE20\n",
      "4\n",
      "> working on page :  60  for flight type :  BE20\n",
      "3\n",
      "> working on page :  80  for flight type :  BE20\n",
      "3\n",
      "> successfully created file :  BE20 .csv in the directory\n"
     ]
    }
   ],
   "source": [
    "#Question 2\n",
    "# Fetching the data from host site \"https://flightaware.com/live/aircrafttype/\" which is given. \n",
    "import requests\n",
    "from bs4 import BeautifulSoup\n",
    "import csv\n",
    "\n",
    "flightHost = 'https://flightaware.com'\n",
    "liveURI = '/live/aircrafttype/'\n",
    "\n",
    "def getAirborneDetails(offset, flightTypeCode):\n",
    "  airborneDetails = []\n",
    "  print('> working on page : ',offset,' for flight type : ',flightTypeCode)\n",
    "  query = {\n",
    "    'offset':str(offset),\n",
    "    'order':'actualdeparturetime',\n",
    "    'sort':'DESC'\n",
    "    }\n",
    "  perFlightresponse = requests.get(flightHost+liveURI+flightTypeCode, params=query)\n",
    "    #parsing & extracting the information from the website.\n",
    "  pc12Flight = BeautifulSoup(perFlightresponse.text)\n",
    "  pageContainer = pc12Flight.find(\"div\", {\"class\": \"pageContainer\"})\n",
    "  scheduleDataTable = pageContainer.find(\"table\", {\"class\": \"prettyTable fullWidth\"})\n",
    "  scheduleDataRows = scheduleDataTable.find_all('tr')\n",
    "  for row in scheduleDataRows:\n",
    "    data = row.find_all('td')\n",
    "    airborneArr = []\n",
    "    for item in data:\n",
    "      airborneArr.append(item.text if item.text is not (None or '') else 'N/A')\n",
    "      # if item.find('a') is not None:\n",
    "      #   airborneArr.append(item.find('a').get('href'))\n",
    "    airborneDetails.append(airborneArr)\n",
    "  print(len(airborneDetails))\n",
    "  return airborneDetails\n",
    "\n",
    "#Saving the information into .csv files in order to know more information about the 4 types of aircrafts and to solve further questions\n",
    "def createCsv(flightType, airborne_details):\n",
    "  with open(flightType+\".csv\", \"w\", newline=\"\") as f:\n",
    "    writer = csv.writer(f)\n",
    "    writer.writerows(airborne_details)\n",
    "  print('> successfully created file : ',flightType,'.csv in the directory')\n",
    "\n",
    "# Main Code\n",
    "response = requests.get(flightHost+liveURI)\n",
    "print (\"Status Code: {}\".format(response.status_code))\n",
    "print (\"URI: {}\\n\".format(response.url))\n",
    "print (\"Date: {}\".format(response.headers['Date']))\n",
    "\n",
    "aircraft_types = ['Pilatus PC-12','Cessna Caravan','Beechcraft Super King Air 200','Cessna Citation Excel/XLS']\n",
    "aircraft_details = {}\n",
    "\n",
    "soup = BeautifulSoup(response.text, 'lxml')\n",
    "items = soup.find_all('td')\n",
    "for item in items:\n",
    "  if item.text in aircraft_types:\n",
    "    link = item.previous_sibling.previous_sibling.find('a').get('href')\n",
    "    code = item.previous_sibling.previous_sibling.text\n",
    "    aircraft_details[item.text] = code\n",
    "\n",
    "print('> Below are flight codes fetched from website.')\n",
    "print(aircraft_details)\n",
    "print('> we can fetch more details by accessing the links below.')\n",
    "for items in aircraft_details.items():\n",
    "  print(items[0],': ',flightHost+liveURI+items[1])\n",
    "  offsetVals = [0,20,40,60,80]\n",
    "  # airborne_headers = ['ident', 'ident-url', 'type', 'type-url', 'origin', 'origin-url', 'destination', 'destination-url',\n",
    "  #                   'departure', 'estd-arrival-time', 'estd-time-enroute']\n",
    "  airborne_headers = ['ident', 'type', 'origin', 'destination', 'departure', \n",
    "  'estd-arrival-time', 'estd-time-enroute']\n",
    "  airborne_details = [airborne_headers]\n",
    "  # airborne_details.append(reduce(getAirborneDetails,flightType,offsetVals))\n",
    "  for i  in offsetVals:\n",
    "    temp = getAirborneDetails(i, items[1])\n",
    "    for item in temp:\n",
    "      if len(item) > 1:\n",
    "        airborne_details.append(item)\n",
    "  createCsv(items[1], airborne_details)"
   ]
  },
  {
   "cell_type": "code",
   "execution_count": null,
   "metadata": {},
   "outputs": [],
   "source": [
    "#Question 3\n",
    "#importing libraries to encode and read the .csv files.\n",
    "import pandas as pd\n",
    "\n",
    "# Aircraft C208\n",
    "C208data= pd.read_csv(\"C208.csv\", encoding = \"ISO-8859-1\" )\n",
    "C208data.head()\n",
    "  "
   ]
  },
  {
   "cell_type": "code",
   "execution_count": null,
   "metadata": {},
   "outputs": [],
   "source": [
    "#dropping Nan values\n",
    "#C208data['estd-time-enroute'].fillna(0, inplace=True)\n",
    "C208data.dropna(inplace = True)\n",
    "C208data.head()\n",
    "#time = pd.DatetimeIndex(df['time taken'])\n"
   ]
  },
  {
   "cell_type": "code",
   "execution_count": null,
   "metadata": {},
   "outputs": [],
   "source": [
    "#changing the format of estimated enroite time to minutes.\n",
    "time = pd.DatetimeIndex(C208data['estd-time-enroute'])\n",
    "time_array_C208 = time.hour * 60 + time.minute\n",
    "#creating an array of average flighing time and the type of aircraft\n",
    "time_average = []\n",
    "plane_list = []\n",
    "plane_list.append(\"C208\")\n",
    "time_average.append(sum(time_array_C208)/len(time_array_C208))\n",
    "print(plane_list)\n",
    "print(time_average)"
   ]
  },
  {
   "cell_type": "code",
   "execution_count": null,
   "metadata": {},
   "outputs": [],
   "source": [
    "# Aircraft PC12\n",
    "PC12data= pd.read_csv(\"PC12.csv\", encoding = \"ISO-8859-1\" )\n",
    "PC12data.head()"
   ]
  },
  {
   "cell_type": "code",
   "execution_count": null,
   "metadata": {},
   "outputs": [],
   "source": [
    "#dropping Nan values\n",
    "#PC12data['estd-time-enroute'].fillna(0, inplace=True)\n",
    "PC12data.dropna(inplace = True)\n",
    "PC12data.head()\n",
    "#time = pd.DatetimeIndex(df['time taken'])"
   ]
  },
  {
   "cell_type": "code",
   "execution_count": null,
   "metadata": {},
   "outputs": [],
   "source": [
    "time = pd.DatetimeIndex(PC12data['estd-time-enroute'])\n",
    "time_array_PC12 = time.hour * 60 + time.minute\n",
    "plane_list.append(\"PC12\")\n",
    "time_average.append(sum(time_array_PC12)/len(time_array_PC12))\n",
    "print(plane_list)\n",
    "print(time_average)"
   ]
  },
  {
   "cell_type": "code",
   "execution_count": null,
   "metadata": {},
   "outputs": [],
   "source": [
    "#Aircraft BE20\n",
    "BE20data= pd.read_csv(\"BE20.csv\", encoding = \"ISO-8859-1\" )\n",
    "BE20data.head()"
   ]
  },
  {
   "cell_type": "code",
   "execution_count": null,
   "metadata": {},
   "outputs": [],
   "source": [
    "#dropping Nan values\n",
    "#BE20data['estd-time-enroute'].fillna(0, inplace=True)\n",
    "BE20data.dropna(inplace = True)\n",
    "BE20data.head()\n",
    "#time = pd.DatetimeIndex(df['time taken'])"
   ]
  },
  {
   "cell_type": "code",
   "execution_count": 86,
   "metadata": {},
   "outputs": [
    {
     "name": "stdout",
     "output_type": "stream",
     "text": [
      "['C208', 'PC12', 'BE20', 'C56X', 'BE20']\n",
      "[80.6590909090909, 100.14285714285714, 90.34693877551021, 105.84615384615384, 90.34693877551021]\n"
     ]
    }
   ],
   "source": [
    "time = pd.DatetimeIndex(BE20data['estd-time-enroute'])\n",
    "time_array_BE20 = time.hour * 60 + time.minute\n",
    "plane_list.append(\"BE20\")\n",
    "time_average.append(sum(time_array_BE20)/len(time_array_BE20))\n",
    "print(plane_list)\n",
    "print(time_average)"
   ]
  },
  {
   "cell_type": "code",
   "execution_count": 87,
   "metadata": {},
   "outputs": [
    {
     "data": {
      "text/html": [
       "<div>\n",
       "<style scoped>\n",
       "    .dataframe tbody tr th:only-of-type {\n",
       "        vertical-align: middle;\n",
       "    }\n",
       "\n",
       "    .dataframe tbody tr th {\n",
       "        vertical-align: top;\n",
       "    }\n",
       "\n",
       "    .dataframe thead th {\n",
       "        text-align: right;\n",
       "    }\n",
       "</style>\n",
       "<table border=\"1\" class=\"dataframe\">\n",
       "  <thead>\n",
       "    <tr style=\"text-align: right;\">\n",
       "      <th></th>\n",
       "      <th>ident</th>\n",
       "      <th>type</th>\n",
       "      <th>origin</th>\n",
       "      <th>destination</th>\n",
       "      <th>departure</th>\n",
       "      <th>estd-arrival-time</th>\n",
       "      <th>estd-time-enroute</th>\n",
       "    </tr>\n",
       "  </thead>\n",
       "  <tbody>\n",
       "    <tr>\n",
       "      <td>0</td>\n",
       "      <td>N781KB</td>\n",
       "      <td>C56X</td>\n",
       "      <td>Scottsdale (KSDL)</td>\n",
       "      <td>Reno/Tahoe Intl (KRNO)</td>\n",
       "      <td>Thu 02:33PM MST</td>\n",
       "      <td>Thu 03:08PM PDT</td>\n",
       "      <td>00:35</td>\n",
       "    </tr>\n",
       "    <tr>\n",
       "      <td>1</td>\n",
       "      <td>N1440Z</td>\n",
       "      <td>C56X</td>\n",
       "      <td>Livingston County (KOZW)</td>\n",
       "      <td>Capital Region Intl (KLAN)</td>\n",
       "      <td>Thu 05:31PM EDT</td>\n",
       "      <td>Thu 05:42PM EDT</td>\n",
       "      <td>00:11</td>\n",
       "    </tr>\n",
       "    <tr>\n",
       "      <td>2</td>\n",
       "      <td>N823DT</td>\n",
       "      <td>C56X</td>\n",
       "      <td>Dupage (KDPA)</td>\n",
       "      <td>NaN</td>\n",
       "      <td>Thu 04:30PM CDT</td>\n",
       "      <td>NaN</td>\n",
       "      <td>NaN</td>\n",
       "    </tr>\n",
       "    <tr>\n",
       "      <td>3</td>\n",
       "      <td>SBE823</td>\n",
       "      <td>C56X</td>\n",
       "      <td>Dupage (KDPA)</td>\n",
       "      <td>Akron-Canton Rgnl (KCAK)</td>\n",
       "      <td>Thu 04:30PM CDT</td>\n",
       "      <td>Thu 06:28PM EDT</td>\n",
       "      <td>00:56</td>\n",
       "    </tr>\n",
       "    <tr>\n",
       "      <td>4</td>\n",
       "      <td>N697EC</td>\n",
       "      <td>C56X</td>\n",
       "      <td>Thomasville Rgnl (KTVI)</td>\n",
       "      <td>Mount Airy/Surry County (KMWK)</td>\n",
       "      <td>Thu 05:13PM EDT</td>\n",
       "      <td>Thu 06:14PM EDT</td>\n",
       "      <td>00:56</td>\n",
       "    </tr>\n",
       "  </tbody>\n",
       "</table>\n",
       "</div>"
      ],
      "text/plain": [
       "     ident  type                    origin                     destination  \\\n",
       "0   N781KB  C56X         Scottsdale (KSDL)          Reno/Tahoe Intl (KRNO)   \n",
       "1   N1440Z  C56X  Livingston County (KOZW)      Capital Region Intl (KLAN)   \n",
       "2   N823DT  C56X             Dupage (KDPA)                             NaN   \n",
       "3   SBE823  C56X             Dupage (KDPA)        Akron-Canton Rgnl (KCAK)   \n",
       "4   N697EC  C56X   Thomasville Rgnl (KTVI)  Mount Airy/Surry County (KMWK)   \n",
       "\n",
       "         departure estd-arrival-time estd-time-enroute  \n",
       "0  Thu 02:33PM MST   Thu 03:08PM PDT             00:35  \n",
       "1  Thu 05:31PM EDT   Thu 05:42PM EDT             00:11  \n",
       "2  Thu 04:30PM CDT               NaN               NaN  \n",
       "3  Thu 04:30PM CDT   Thu 06:28PM EDT             00:56  \n",
       "4  Thu 05:13PM EDT   Thu 06:14PM EDT             00:56  "
      ]
     },
     "execution_count": 87,
     "metadata": {},
     "output_type": "execute_result"
    }
   ],
   "source": [
    "# Aircraft C56X\n",
    "C56Xdata= pd.read_csv(\"C56X.csv\", encoding = \"ISO-8859-1\" )\n",
    "C56Xdata.head()"
   ]
  },
  {
   "cell_type": "code",
   "execution_count": 88,
   "metadata": {},
   "outputs": [
    {
     "data": {
      "text/html": [
       "<div>\n",
       "<style scoped>\n",
       "    .dataframe tbody tr th:only-of-type {\n",
       "        vertical-align: middle;\n",
       "    }\n",
       "\n",
       "    .dataframe tbody tr th {\n",
       "        vertical-align: top;\n",
       "    }\n",
       "\n",
       "    .dataframe thead th {\n",
       "        text-align: right;\n",
       "    }\n",
       "</style>\n",
       "<table border=\"1\" class=\"dataframe\">\n",
       "  <thead>\n",
       "    <tr style=\"text-align: right;\">\n",
       "      <th></th>\n",
       "      <th>ident</th>\n",
       "      <th>type</th>\n",
       "      <th>origin</th>\n",
       "      <th>destination</th>\n",
       "      <th>departure</th>\n",
       "      <th>estd-arrival-time</th>\n",
       "      <th>estd-time-enroute</th>\n",
       "    </tr>\n",
       "  </thead>\n",
       "  <tbody>\n",
       "    <tr>\n",
       "      <td>0</td>\n",
       "      <td>N781KB</td>\n",
       "      <td>C56X</td>\n",
       "      <td>Scottsdale (KSDL)</td>\n",
       "      <td>Reno/Tahoe Intl (KRNO)</td>\n",
       "      <td>Thu 02:33PM MST</td>\n",
       "      <td>Thu 03:08PM PDT</td>\n",
       "      <td>00:35</td>\n",
       "    </tr>\n",
       "    <tr>\n",
       "      <td>1</td>\n",
       "      <td>N1440Z</td>\n",
       "      <td>C56X</td>\n",
       "      <td>Livingston County (KOZW)</td>\n",
       "      <td>Capital Region Intl (KLAN)</td>\n",
       "      <td>Thu 05:31PM EDT</td>\n",
       "      <td>Thu 05:42PM EDT</td>\n",
       "      <td>00:11</td>\n",
       "    </tr>\n",
       "    <tr>\n",
       "      <td>3</td>\n",
       "      <td>SBE823</td>\n",
       "      <td>C56X</td>\n",
       "      <td>Dupage (KDPA)</td>\n",
       "      <td>Akron-Canton Rgnl (KCAK)</td>\n",
       "      <td>Thu 04:30PM CDT</td>\n",
       "      <td>Thu 06:28PM EDT</td>\n",
       "      <td>00:56</td>\n",
       "    </tr>\n",
       "    <tr>\n",
       "      <td>4</td>\n",
       "      <td>N697EC</td>\n",
       "      <td>C56X</td>\n",
       "      <td>Thomasville Rgnl (KTVI)</td>\n",
       "      <td>Mount Airy/Surry County (KMWK)</td>\n",
       "      <td>Thu 05:13PM EDT</td>\n",
       "      <td>Thu 06:14PM EDT</td>\n",
       "      <td>00:56</td>\n",
       "    </tr>\n",
       "    <tr>\n",
       "      <td>5</td>\n",
       "      <td>N560DA</td>\n",
       "      <td>C56X</td>\n",
       "      <td>Alexander Field South Wood County Airport (KISW)</td>\n",
       "      <td>Memphis Intl (KMEM)</td>\n",
       "      <td>Thu 04:12PM CDT</td>\n",
       "      <td>Thu 05:46PM CDT</td>\n",
       "      <td>01:38</td>\n",
       "    </tr>\n",
       "  </tbody>\n",
       "</table>\n",
       "</div>"
      ],
      "text/plain": [
       "     ident  type                                            origin  \\\n",
       "0   N781KB  C56X                                 Scottsdale (KSDL)   \n",
       "1   N1440Z  C56X                          Livingston County (KOZW)   \n",
       "3   SBE823  C56X                                     Dupage (KDPA)   \n",
       "4   N697EC  C56X                           Thomasville Rgnl (KTVI)   \n",
       "5   N560DA  C56X  Alexander Field South Wood County Airport (KISW)   \n",
       "\n",
       "                      destination        departure estd-arrival-time  \\\n",
       "0          Reno/Tahoe Intl (KRNO)  Thu 02:33PM MST   Thu 03:08PM PDT   \n",
       "1      Capital Region Intl (KLAN)  Thu 05:31PM EDT   Thu 05:42PM EDT   \n",
       "3        Akron-Canton Rgnl (KCAK)  Thu 04:30PM CDT   Thu 06:28PM EDT   \n",
       "4  Mount Airy/Surry County (KMWK)  Thu 05:13PM EDT   Thu 06:14PM EDT   \n",
       "5             Memphis Intl (KMEM)  Thu 04:12PM CDT   Thu 05:46PM CDT   \n",
       "\n",
       "  estd-time-enroute  \n",
       "0             00:35  \n",
       "1             00:11  \n",
       "3             00:56  \n",
       "4             00:56  \n",
       "5             01:38  "
      ]
     },
     "execution_count": 88,
     "metadata": {},
     "output_type": "execute_result"
    }
   ],
   "source": [
    "#dropping Nan values\n",
    "#C56Xdata['estd-time-enroute'].fillna(0, inplace=True)\n",
    "C56Xdata.dropna(inplace = True)\n",
    "C56Xdata.head()\n",
    "#time = pd.DatetimeIndex(df['time taken'])"
   ]
  },
  {
   "cell_type": "code",
   "execution_count": 89,
   "metadata": {},
   "outputs": [
    {
     "name": "stdout",
     "output_type": "stream",
     "text": [
      "['C208', 'PC12', 'BE20', 'C56X', 'BE20', 'C56X']\n",
      "[80.6590909090909, 100.14285714285714, 90.34693877551021, 105.84615384615384, 90.34693877551021, 105.84615384615384]\n"
     ]
    }
   ],
   "source": [
    "time = pd.DatetimeIndex(C56Xdata['estd-time-enroute'])\n",
    "time_array_C56X = time.hour * 60 + time.minute\n",
    "plane_list.append(\"C56X\")\n",
    "time_average.append(sum(time_array_C56X)/len(time_array_C56X))\n",
    "print(plane_list)\n",
    "print(time_average)"
   ]
  },
  {
   "cell_type": "code",
   "execution_count": 90,
   "metadata": {},
   "outputs": [],
   "source": [
    "import matplotlib.pyplot as plt\n",
    "import seaborn as sns"
   ]
  },
  {
   "cell_type": "code",
   "execution_count": 91,
   "metadata": {},
   "outputs": [
    {
     "data": {
      "text/plain": [
       "Text(0, 0.5, 'Average time in minutes')"
      ]
     },
     "execution_count": 91,
     "metadata": {},
     "output_type": "execute_result"
    },
    {
     "data": {
      "image/png": "[encoded data removed]",
      "text/plain": [
       "<Figure size 360x360 with 1 Axes>"
      ]
     },
     "metadata": {
      "needs_background": "light"
     },
     "output_type": "display_data"
    }
   ],
   "source": [
    "\n",
    "plt.subplots(figsize=(5,5))\n",
    "sns.barplot(x = plane_list ,y= time_average )\n",
    "plt.title('Plot of the Average amount of time flown for 4 types of Aircrafts')\n",
    "plt.xlabel('Types of Aircrafts')\n",
    "plt.ylabel('Average time in minutes')"
   ]
  },
  {
   "cell_type": "code",
   "execution_count": null,
   "metadata": {},
   "outputs": [],
   "source": [
    "# From the Bove graph it can be observed that the Aircraft C56X has more average on-air time of 105.84 minutes when compared to the the other three type of aircrafts."
   ]
  },
  {
   "cell_type": "code",
   "execution_count": null,
   "metadata": {},
   "outputs": [],
   "source": []
  },
  {
   "cell_type": "code",
   "execution_count": null,
   "metadata": {},
   "outputs": [],
   "source": []
  }
 ],
 "metadata": {
  "kernelspec": {
   "display_name": "Python 3",
   "language": "python",
   "name": "python3"
  },
  "language_info": {
   "codemirror_mode": {
    "name": "ipython",
    "version": 3
   },
   "file_extension": ".py",
   "mimetype": "text/x-python",
   "name": "python",
   "nbconvert_exporter": "python",
   "pygments_lexer": "ipython3",
   "version": "3.7.4"
  }
 },
 "nbformat": 4,
 "nbformat_minor": 2
}
